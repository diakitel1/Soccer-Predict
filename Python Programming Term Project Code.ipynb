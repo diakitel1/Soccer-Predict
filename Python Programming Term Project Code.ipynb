{
 "cells": [
  {
   "cell_type": "code",
   "execution_count": 6,
   "id": "038c794c",
   "metadata": {},
   "outputs": [],
   "source": [
    "#Import necessary libraries\n",
    "import pandas as pd\n",
    "import numpy as np\n",
    "from matplotlib import pyplot as plt\n",
    "import matplotlib.pyplot as plt\n",
    "import seaborn as sns\n",
    "import statsmodels.api as sm"
   ]
  },
  {
   "cell_type": "code",
   "execution_count": 7,
   "id": "9ec0d66b",
   "metadata": {},
   "outputs": [],
   "source": [
    "df= pd.read_csv(\"fifa_countries_audience.csv\")"
   ]
  },
  {
   "cell_type": "code",
   "execution_count": 8,
   "id": "3778e05f",
   "metadata": {
    "scrolled": false
   },
   "outputs": [
    {
     "data": {
      "text/html": [
       "<div>\n",
       "<style scoped>\n",
       "    .dataframe tbody tr th:only-of-type {\n",
       "        vertical-align: middle;\n",
       "    }\n",
       "\n",
       "    .dataframe tbody tr th {\n",
       "        vertical-align: top;\n",
       "    }\n",
       "\n",
       "    .dataframe thead th {\n",
       "        text-align: right;\n",
       "    }\n",
       "</style>\n",
       "<table border=\"1\" class=\"dataframe\">\n",
       "  <thead>\n",
       "    <tr style=\"text-align: right;\">\n",
       "      <th></th>\n",
       "      <th>country</th>\n",
       "      <th>confederation</th>\n",
       "      <th>population_share</th>\n",
       "      <th>tv_audience_share</th>\n",
       "      <th>gdp_weighted_share</th>\n",
       "    </tr>\n",
       "  </thead>\n",
       "  <tbody>\n",
       "    <tr>\n",
       "      <th>0</th>\n",
       "      <td>United States</td>\n",
       "      <td>CONCACAF</td>\n",
       "      <td>4.5</td>\n",
       "      <td>4.3</td>\n",
       "      <td>11.3</td>\n",
       "    </tr>\n",
       "    <tr>\n",
       "      <th>1</th>\n",
       "      <td>Japan</td>\n",
       "      <td>AFC</td>\n",
       "      <td>1.9</td>\n",
       "      <td>4.9</td>\n",
       "      <td>9.1</td>\n",
       "    </tr>\n",
       "    <tr>\n",
       "      <th>2</th>\n",
       "      <td>China</td>\n",
       "      <td>AFC</td>\n",
       "      <td>19.5</td>\n",
       "      <td>14.8</td>\n",
       "      <td>7.3</td>\n",
       "    </tr>\n",
       "    <tr>\n",
       "      <th>3</th>\n",
       "      <td>Germany</td>\n",
       "      <td>UEFA</td>\n",
       "      <td>1.2</td>\n",
       "      <td>2.9</td>\n",
       "      <td>6.3</td>\n",
       "    </tr>\n",
       "    <tr>\n",
       "      <th>4</th>\n",
       "      <td>Brazil</td>\n",
       "      <td>CONMEBOL</td>\n",
       "      <td>2.8</td>\n",
       "      <td>7.1</td>\n",
       "      <td>5.4</td>\n",
       "    </tr>\n",
       "  </tbody>\n",
       "</table>\n",
       "</div>"
      ],
      "text/plain": [
       "         country confederation  population_share  tv_audience_share  \\\n",
       "0  United States      CONCACAF               4.5                4.3   \n",
       "1          Japan           AFC               1.9                4.9   \n",
       "2          China           AFC              19.5               14.8   \n",
       "3        Germany          UEFA               1.2                2.9   \n",
       "4         Brazil      CONMEBOL               2.8                7.1   \n",
       "\n",
       "   gdp_weighted_share  \n",
       "0                11.3  \n",
       "1                 9.1  \n",
       "2                 7.3  \n",
       "3                 6.3  \n",
       "4                 5.4  "
      ]
     },
     "execution_count": 8,
     "metadata": {},
     "output_type": "execute_result"
    }
   ],
   "source": [
    "df.head()"
   ]
  },
  {
   "cell_type": "code",
   "execution_count": 9,
   "id": "a8cc73d7",
   "metadata": {},
   "outputs": [
    {
     "name": "stdout",
     "output_type": "stream",
     "text": [
      "country               0.0\n",
      "confederation         0.0\n",
      "population_share      0.0\n",
      "tv_audience_share     0.0\n",
      "gdp_weighted_share    0.0\n",
      "dtype: float64\n"
     ]
    }
   ],
   "source": [
    "percent_missing = df.isnull().sum() * 100 / len(df)\n",
    "missing_value_df = pd.DataFrame({'column_name': df.columns,\n",
    "                                 'percent_missing': percent_missing})\n",
    "print(percent_missing)"
   ]
  },
  {
   "cell_type": "code",
   "execution_count": 10,
   "id": "1719facd",
   "metadata": {
    "scrolled": true
   },
   "outputs": [
    {
     "data": {
      "text/plain": [
       "country               191\n",
       "confederation         191\n",
       "population_share      191\n",
       "tv_audience_share     191\n",
       "gdp_weighted_share    191\n",
       "dtype: int64"
      ]
     },
     "execution_count": 10,
     "metadata": {},
     "output_type": "execute_result"
    }
   ],
   "source": [
    "df.count()"
   ]
  },
  {
   "cell_type": "code",
   "execution_count": 50,
   "id": "b3e63cb1",
   "metadata": {},
   "outputs": [
    {
     "name": "stdout",
     "output_type": "stream",
     "text": [
      "<class 'pandas.core.frame.DataFrame'>\n",
      "RangeIndex: 191 entries, 0 to 190\n",
      "Data columns (total 5 columns):\n",
      " #   Column              Non-Null Count  Dtype  \n",
      "---  ------              --------------  -----  \n",
      " 0   country             191 non-null    object \n",
      " 1   confederation       191 non-null    object \n",
      " 2   population_share    191 non-null    float64\n",
      " 3   tv_audience_share   191 non-null    float64\n",
      " 4   gdp_weighted_share  191 non-null    float64\n",
      "dtypes: float64(3), object(2)\n",
      "memory usage: 7.6+ KB\n"
     ]
    }
   ],
   "source": [
    "df.info()"
   ]
  },
  {
   "cell_type": "code",
   "execution_count": 51,
   "id": "a4fc4aad",
   "metadata": {},
   "outputs": [
    {
     "name": "stdout",
     "output_type": "stream",
     "text": [
      "(191, 5)\n"
     ]
    }
   ],
   "source": [
    "print(df.shape)"
   ]
  },
  {
   "cell_type": "code",
   "execution_count": 52,
   "id": "12190a34",
   "metadata": {},
   "outputs": [
    {
     "name": "stdout",
     "output_type": "stream",
     "text": [
      "191\n"
     ]
    }
   ],
   "source": [
    "row, col = df.shape\n",
    "print(row)"
   ]
  },
  {
   "cell_type": "code",
   "execution_count": 53,
   "id": "e9b84044",
   "metadata": {},
   "outputs": [
    {
     "name": "stdout",
     "output_type": "stream",
     "text": [
      "5\n"
     ]
    }
   ],
   "source": [
    "print(col)"
   ]
  },
  {
   "cell_type": "code",
   "execution_count": 54,
   "id": "db09e06a",
   "metadata": {},
   "outputs": [
    {
     "data": {
      "text/plain": [
       "population_share      0.522513\n",
       "tv_audience_share     0.523037\n",
       "gdp_weighted_share    0.520419\n",
       "dtype: float64"
      ]
     },
     "execution_count": 54,
     "metadata": {},
     "output_type": "execute_result"
    }
   ],
   "source": [
    "df.iloc[:,2:5].apply(np.mean)"
   ]
  },
  {
   "cell_type": "code",
   "execution_count": 11,
   "id": "7eb226a3",
   "metadata": {},
   "outputs": [
    {
     "data": {
      "text/plain": [
       "population_share      0.1\n",
       "tv_audience_share     0.1\n",
       "gdp_weighted_share    0.0\n",
       "dtype: float64"
      ]
     },
     "execution_count": 11,
     "metadata": {},
     "output_type": "execute_result"
    }
   ],
   "source": [
    "df.iloc[:,2:5].apply(np.median)"
   ]
  },
  {
   "cell_type": "code",
   "execution_count": 12,
   "id": "4392eef8",
   "metadata": {},
   "outputs": [
    {
     "data": {
      "text/plain": [
       "0    0.0\n",
       "Name: population_share, dtype: float64"
      ]
     },
     "execution_count": 12,
     "metadata": {},
     "output_type": "execute_result"
    }
   ],
   "source": [
    "df['population_share'].round(2).mode()"
   ]
  },
  {
   "cell_type": "code",
   "execution_count": 13,
   "id": "116a7548",
   "metadata": {},
   "outputs": [
    {
     "data": {
      "text/plain": [
       "0    0.0\n",
       "Name: gdp_weighted_share, dtype: float64"
      ]
     },
     "execution_count": 13,
     "metadata": {},
     "output_type": "execute_result"
    }
   ],
   "source": [
    "df['gdp_weighted_share'].round(2).mode()"
   ]
  },
  {
   "cell_type": "code",
   "execution_count": 14,
   "id": "dbedad05",
   "metadata": {},
   "outputs": [
    {
     "data": {
      "text/plain": [
       "0    0.0\n",
       "Name: tv_audience_share, dtype: float64"
      ]
     },
     "execution_count": 14,
     "metadata": {},
     "output_type": "execute_result"
    }
   ],
   "source": [
    "df['tv_audience_share'].round(2).mode()"
   ]
  },
  {
   "cell_type": "code",
   "execution_count": 15,
   "id": "b6561d3f",
   "metadata": {},
   "outputs": [
    {
     "data": {
      "text/html": [
       "<div>\n",
       "<style scoped>\n",
       "    .dataframe tbody tr th:only-of-type {\n",
       "        vertical-align: middle;\n",
       "    }\n",
       "\n",
       "    .dataframe tbody tr th {\n",
       "        vertical-align: top;\n",
       "    }\n",
       "\n",
       "    .dataframe thead th {\n",
       "        text-align: right;\n",
       "    }\n",
       "</style>\n",
       "<table border=\"1\" class=\"dataframe\">\n",
       "  <thead>\n",
       "    <tr style=\"text-align: right;\">\n",
       "      <th></th>\n",
       "      <th>country</th>\n",
       "      <th>confederation</th>\n",
       "      <th>population_share</th>\n",
       "      <th>tv_audience_share</th>\n",
       "      <th>gdp_weighted_share</th>\n",
       "    </tr>\n",
       "  </thead>\n",
       "  <tbody>\n",
       "    <tr>\n",
       "      <th>0</th>\n",
       "      <td>Afghanistan</td>\n",
       "      <td>CAF</td>\n",
       "      <td>0.0</td>\n",
       "      <td>0.0</td>\n",
       "      <td>0.0</td>\n",
       "    </tr>\n",
       "    <tr>\n",
       "      <th>1</th>\n",
       "      <td>Albania</td>\n",
       "      <td>NaN</td>\n",
       "      <td>NaN</td>\n",
       "      <td>NaN</td>\n",
       "      <td>NaN</td>\n",
       "    </tr>\n",
       "    <tr>\n",
       "      <th>2</th>\n",
       "      <td>Algeria</td>\n",
       "      <td>NaN</td>\n",
       "      <td>NaN</td>\n",
       "      <td>NaN</td>\n",
       "      <td>NaN</td>\n",
       "    </tr>\n",
       "    <tr>\n",
       "      <th>3</th>\n",
       "      <td>American Samoa</td>\n",
       "      <td>NaN</td>\n",
       "      <td>NaN</td>\n",
       "      <td>NaN</td>\n",
       "      <td>NaN</td>\n",
       "    </tr>\n",
       "    <tr>\n",
       "      <th>4</th>\n",
       "      <td>Angola</td>\n",
       "      <td>NaN</td>\n",
       "      <td>NaN</td>\n",
       "      <td>NaN</td>\n",
       "      <td>NaN</td>\n",
       "    </tr>\n",
       "    <tr>\n",
       "      <th>...</th>\n",
       "      <td>...</td>\n",
       "      <td>...</td>\n",
       "      <td>...</td>\n",
       "      <td>...</td>\n",
       "      <td>...</td>\n",
       "    </tr>\n",
       "    <tr>\n",
       "      <th>186</th>\n",
       "      <td>Venezuela</td>\n",
       "      <td>NaN</td>\n",
       "      <td>NaN</td>\n",
       "      <td>NaN</td>\n",
       "      <td>NaN</td>\n",
       "    </tr>\n",
       "    <tr>\n",
       "      <th>187</th>\n",
       "      <td>Vietnam</td>\n",
       "      <td>NaN</td>\n",
       "      <td>NaN</td>\n",
       "      <td>NaN</td>\n",
       "      <td>NaN</td>\n",
       "    </tr>\n",
       "    <tr>\n",
       "      <th>188</th>\n",
       "      <td>Yemen</td>\n",
       "      <td>NaN</td>\n",
       "      <td>NaN</td>\n",
       "      <td>NaN</td>\n",
       "      <td>NaN</td>\n",
       "    </tr>\n",
       "    <tr>\n",
       "      <th>189</th>\n",
       "      <td>Zambia</td>\n",
       "      <td>NaN</td>\n",
       "      <td>NaN</td>\n",
       "      <td>NaN</td>\n",
       "      <td>NaN</td>\n",
       "    </tr>\n",
       "    <tr>\n",
       "      <th>190</th>\n",
       "      <td>Zimbabwe</td>\n",
       "      <td>NaN</td>\n",
       "      <td>NaN</td>\n",
       "      <td>NaN</td>\n",
       "      <td>NaN</td>\n",
       "    </tr>\n",
       "  </tbody>\n",
       "</table>\n",
       "<p>191 rows × 5 columns</p>\n",
       "</div>"
      ],
      "text/plain": [
       "            country confederation  population_share  tv_audience_share  \\\n",
       "0       Afghanistan           CAF               0.0                0.0   \n",
       "1           Albania           NaN               NaN                NaN   \n",
       "2           Algeria           NaN               NaN                NaN   \n",
       "3    American Samoa           NaN               NaN                NaN   \n",
       "4            Angola           NaN               NaN                NaN   \n",
       "..              ...           ...               ...                ...   \n",
       "186       Venezuela           NaN               NaN                NaN   \n",
       "187         Vietnam           NaN               NaN                NaN   \n",
       "188           Yemen           NaN               NaN                NaN   \n",
       "189          Zambia           NaN               NaN                NaN   \n",
       "190        Zimbabwe           NaN               NaN                NaN   \n",
       "\n",
       "     gdp_weighted_share  \n",
       "0                   0.0  \n",
       "1                   NaN  \n",
       "2                   NaN  \n",
       "3                   NaN  \n",
       "4                   NaN  \n",
       "..                  ...  \n",
       "186                 NaN  \n",
       "187                 NaN  \n",
       "188                 NaN  \n",
       "189                 NaN  \n",
       "190                 NaN  \n",
       "\n",
       "[191 rows x 5 columns]"
      ]
     },
     "execution_count": 15,
     "metadata": {},
     "output_type": "execute_result"
    }
   ],
   "source": [
    "df.round(2).mode()"
   ]
  },
  {
   "cell_type": "code",
   "execution_count": 16,
   "id": "e2ef807f",
   "metadata": {},
   "outputs": [
    {
     "data": {
      "text/html": [
       "<div>\n",
       "<style scoped>\n",
       "    .dataframe tbody tr th:only-of-type {\n",
       "        vertical-align: middle;\n",
       "    }\n",
       "\n",
       "    .dataframe tbody tr th {\n",
       "        vertical-align: top;\n",
       "    }\n",
       "\n",
       "    .dataframe thead th {\n",
       "        text-align: right;\n",
       "    }\n",
       "</style>\n",
       "<table border=\"1\" class=\"dataframe\">\n",
       "  <thead>\n",
       "    <tr style=\"text-align: right;\">\n",
       "      <th></th>\n",
       "      <th>population_share</th>\n",
       "      <th>tv_audience_share</th>\n",
       "      <th>gdp_weighted_share</th>\n",
       "    </tr>\n",
       "  </thead>\n",
       "  <tbody>\n",
       "    <tr>\n",
       "      <th>population_share</th>\n",
       "      <td>1.000000</td>\n",
       "      <td>0.731324</td>\n",
       "      <td>0.447268</td>\n",
       "    </tr>\n",
       "    <tr>\n",
       "      <th>tv_audience_share</th>\n",
       "      <td>0.731324</td>\n",
       "      <td>1.000000</td>\n",
       "      <td>0.770779</td>\n",
       "    </tr>\n",
       "    <tr>\n",
       "      <th>gdp_weighted_share</th>\n",
       "      <td>0.447268</td>\n",
       "      <td>0.770779</td>\n",
       "      <td>1.000000</td>\n",
       "    </tr>\n",
       "  </tbody>\n",
       "</table>\n",
       "</div>"
      ],
      "text/plain": [
       "                    population_share  tv_audience_share  gdp_weighted_share\n",
       "population_share            1.000000           0.731324            0.447268\n",
       "tv_audience_share           0.731324           1.000000            0.770779\n",
       "gdp_weighted_share          0.447268           0.770779            1.000000"
      ]
     },
     "execution_count": 16,
     "metadata": {},
     "output_type": "execute_result"
    }
   ],
   "source": [
    "df.corr()"
   ]
  },
  {
   "cell_type": "markdown",
   "id": "67fe023d",
   "metadata": {},
   "source": [
    "The correlation coefficient for population_share is 0.45 and the correlation coefficient for tv_audience_share is 0.77. This suggests that there is a stronger relationship between the dependent variable (gdp_weighted_share) and tv_audience_share compared to population_share. This means that tv_audience_share may be a more suitable independent variable to use in a linear regression model, as it is more strongly correlated with the dependent variable."
   ]
  },
  {
   "cell_type": "code",
   "execution_count": 17,
   "id": "bd2cdd44",
   "metadata": {},
   "outputs": [
    {
     "data": {
      "text/plain": [
       "population_share      1.955196\n",
       "tv_audience_share     1.445735\n",
       "gdp_weighted_share    1.453774\n",
       "dtype: float64"
      ]
     },
     "execution_count": 17,
     "metadata": {},
     "output_type": "execute_result"
    }
   ],
   "source": [
    "df.iloc[:,2:5].apply(np.std)"
   ]
  },
  {
   "cell_type": "code",
   "execution_count": 18,
   "id": "83b945c6",
   "metadata": {},
   "outputs": [
    {
     "name": "stderr",
     "output_type": "stream",
     "text": [
      "C:\\Users\\Lamine Diakite\\AppData\\Local\\Temp\\ipykernel_24740\\3390915376.py:1: FutureWarning: Dropping of nuisance columns in DataFrame reductions (with 'numeric_only=None') is deprecated; in a future version this will raise TypeError.  Select only valid columns before calling the reduction.\n",
      "  df.std()\n"
     ]
    },
    {
     "data": {
      "text/plain": [
       "population_share      1.960335\n",
       "tv_audience_share     1.449535\n",
       "gdp_weighted_share    1.457594\n",
       "dtype: float64"
      ]
     },
     "execution_count": 18,
     "metadata": {},
     "output_type": "execute_result"
    }
   ],
   "source": [
    "df.std()"
   ]
  },
  {
   "cell_type": "code",
   "execution_count": 19,
   "id": "5bd1d8a5",
   "metadata": {},
   "outputs": [
    {
     "data": {
      "text/plain": [
       "population_share      3.822792\n",
       "tv_audience_share     2.090150\n",
       "gdp_weighted_share    2.113457\n",
       "dtype: float64"
      ]
     },
     "execution_count": 19,
     "metadata": {},
     "output_type": "execute_result"
    }
   ],
   "source": [
    "df.iloc[:,2:5].apply(np.var)"
   ]
  },
  {
   "cell_type": "code",
   "execution_count": 20,
   "id": "72551987",
   "metadata": {},
   "outputs": [
    {
     "name": "stderr",
     "output_type": "stream",
     "text": [
      "C:\\Users\\Lamine Diakite\\AppData\\Local\\Temp\\ipykernel_24740\\1568254755.py:1: FutureWarning: Dropping of nuisance columns in DataFrame reductions (with 'numeric_only=None') is deprecated; in a future version this will raise TypeError.  Select only valid columns before calling the reduction.\n",
      "  df.var()\n"
     ]
    },
    {
     "data": {
      "text/plain": [
       "population_share      3.842912\n",
       "tv_audience_share     2.101151\n",
       "gdp_weighted_share    2.124581\n",
       "dtype: float64"
      ]
     },
     "execution_count": 20,
     "metadata": {},
     "output_type": "execute_result"
    }
   ],
   "source": [
    "df.var()"
   ]
  },
  {
   "cell_type": "code",
   "execution_count": 21,
   "id": "ff3c42f9",
   "metadata": {},
   "outputs": [
    {
     "data": {
      "text/plain": [
       "0       4.5\n",
       "1       1.9\n",
       "2      19.5\n",
       "3       1.2\n",
       "4       2.8\n",
       "       ... \n",
       "186     0.0\n",
       "187     0.1\n",
       "188     0.0\n",
       "189     0.0\n",
       "190     0.0\n",
       "Name: population_share, Length: 191, dtype: float64"
      ]
     },
     "execution_count": 21,
     "metadata": {},
     "output_type": "execute_result"
    }
   ],
   "source": [
    "df['population_share']"
   ]
  },
  {
   "cell_type": "code",
   "execution_count": 22,
   "id": "77686b39",
   "metadata": {
    "scrolled": false
   },
   "outputs": [
    {
     "data": {
      "text/plain": [
       "0       4.3\n",
       "1       4.9\n",
       "2      14.8\n",
       "3       2.9\n",
       "4       7.1\n",
       "       ... \n",
       "186     0.0\n",
       "187     0.0\n",
       "188     0.0\n",
       "189     0.0\n",
       "190     0.0\n",
       "Name: tv_audience_share, Length: 191, dtype: float64"
      ]
     },
     "execution_count": 22,
     "metadata": {},
     "output_type": "execute_result"
    }
   ],
   "source": [
    "df['tv_audience_share']"
   ]
  },
  {
   "cell_type": "code",
   "execution_count": 23,
   "id": "4d1d459d",
   "metadata": {
    "scrolled": true
   },
   "outputs": [
    {
     "data": {
      "text/plain": [
       "0      11.3\n",
       "1       9.1\n",
       "2       7.3\n",
       "3       6.3\n",
       "4       5.4\n",
       "       ... \n",
       "186     0.0\n",
       "187     0.0\n",
       "188     0.0\n",
       "189     0.0\n",
       "190     0.0\n",
       "Name: gdp_weighted_share, Length: 191, dtype: float64"
      ]
     },
     "execution_count": 23,
     "metadata": {},
     "output_type": "execute_result"
    }
   ],
   "source": [
    "df['gdp_weighted_share']"
   ]
  },
  {
   "cell_type": "code",
   "execution_count": 24,
   "id": "5d5127eb",
   "metadata": {
    "scrolled": false
   },
   "outputs": [
    {
     "data": {
      "text/plain": [
       "0.0     61\n",
       "0.1     49\n",
       "0.2     21\n",
       "0.3     12\n",
       "0.4      9\n",
       "0.5      6\n",
       "0.7      6\n",
       "0.9      4\n",
       "1.1      3\n",
       "0.6      3\n",
       "1.3      2\n",
       "0.8      1\n",
       "1.4      1\n",
       "2.5      1\n",
       "17.6     1\n",
       "2.3      1\n",
       "4.5      1\n",
       "1.9      1\n",
       "1.0      1\n",
       "1.7      1\n",
       "3.5      1\n",
       "2.1      1\n",
       "2.8      1\n",
       "1.2      1\n",
       "19.5     1\n",
       "2.2      1\n",
       "Name: population_share, dtype: int64"
      ]
     },
     "execution_count": 24,
     "metadata": {},
     "output_type": "execute_result"
    }
   ],
   "source": [
    "df['population_share'].value_counts()"
   ]
  },
  {
   "cell_type": "code",
   "execution_count": 25,
   "id": "83b6c957",
   "metadata": {
    "scrolled": true
   },
   "outputs": [
    {
     "data": {
      "text/plain": [
       "0.0     67\n",
       "0.1     46\n",
       "0.2     19\n",
       "0.3     15\n",
       "0.5      7\n",
       "0.4      6\n",
       "0.7      3\n",
       "0.8      2\n",
       "2.6      2\n",
       "0.6      2\n",
       "1.8      2\n",
       "2.1      2\n",
       "2.0      2\n",
       "3.2      1\n",
       "0.9      1\n",
       "14.8     1\n",
       "2.9      1\n",
       "7.1      1\n",
       "3.1      1\n",
       "1.3      1\n",
       "2.3      1\n",
       "1.0      1\n",
       "1.6      1\n",
       "6.7      1\n",
       "1.2      1\n",
       "4.9      1\n",
       "1.5      1\n",
       "2.4      1\n",
       "4.3      1\n",
       "Name: tv_audience_share, dtype: int64"
      ]
     },
     "execution_count": 25,
     "metadata": {},
     "output_type": "execute_result"
    }
   ],
   "source": [
    "df['tv_audience_share'].value_counts()"
   ]
  },
  {
   "cell_type": "code",
   "execution_count": 26,
   "id": "c68a9c8a",
   "metadata": {
    "scrolled": true
   },
   "outputs": [
    {
     "data": {
      "text/plain": [
       "0.0     101\n",
       "0.1      30\n",
       "0.3       7\n",
       "0.5       7\n",
       "0.2       6\n",
       "0.6       6\n",
       "0.4       5\n",
       "0.7       5\n",
       "4.0       2\n",
       "0.9       2\n",
       "1.0       2\n",
       "1.6       2\n",
       "1.3       1\n",
       "0.8       1\n",
       "1.2       1\n",
       "11.3      1\n",
       "9.1       1\n",
       "2.0       1\n",
       "2.6       1\n",
       "2.9       1\n",
       "3.0       1\n",
       "3.1       1\n",
       "3.5       1\n",
       "4.2       1\n",
       "5.4       1\n",
       "6.3       1\n",
       "7.3       1\n",
       "1.5       1\n",
       "Name: gdp_weighted_share, dtype: int64"
      ]
     },
     "execution_count": 26,
     "metadata": {},
     "output_type": "execute_result"
    }
   ],
   "source": [
    "df['gdp_weighted_share'].value_counts()"
   ]
  },
  {
   "cell_type": "code",
   "execution_count": 27,
   "id": "43c15a3d",
   "metadata": {},
   "outputs": [
    {
     "data": {
      "text/plain": [
       "(29, 6, 26, 28, 191)"
      ]
     },
     "execution_count": 27,
     "metadata": {},
     "output_type": "execute_result"
    }
   ],
   "source": [
    "len(df['tv_audience_share'].value_counts().index),len(df['confederation'].value_counts().index),len(df['population_share'].value_counts().index),len(df['gdp_weighted_share'].value_counts().index),len(df['country'].value_counts().index)"
   ]
  },
  {
   "cell_type": "code",
   "execution_count": 28,
   "id": "7ca74313",
   "metadata": {},
   "outputs": [
    {
     "data": {
      "text/plain": [
       "191"
      ]
     },
     "execution_count": 28,
     "metadata": {},
     "output_type": "execute_result"
    }
   ],
   "source": [
    "len(df['country'].value_counts().index)"
   ]
  },
  {
   "cell_type": "code",
   "execution_count": 73,
   "id": "9030bc94",
   "metadata": {},
   "outputs": [
    {
     "data": {
      "text/plain": [
       "CAF         50\n",
       "UEFA        46\n",
       "AFC         43\n",
       "CONCACAF    30\n",
       "OFC         12\n",
       "CONMEBOL    10\n",
       "Name: confederation, dtype: int64"
      ]
     },
     "execution_count": 73,
     "metadata": {},
     "output_type": "execute_result"
    }
   ],
   "source": [
    "df['confederation'].value_counts()"
   ]
  },
  {
   "cell_type": "code",
   "execution_count": 74,
   "id": "96b6646f",
   "metadata": {},
   "outputs": [
    {
     "data": {
      "text/plain": [
       "Index(['CAF', 'UEFA', 'AFC', 'CONCACAF', 'OFC', 'CONMEBOL'], dtype='object')"
      ]
     },
     "execution_count": 74,
     "metadata": {},
     "output_type": "execute_result"
    }
   ],
   "source": [
    "df['confederation'].value_counts().index"
   ]
  },
  {
   "cell_type": "code",
   "execution_count": 29,
   "id": "d63aa25f",
   "metadata": {
    "scrolled": true
   },
   "outputs": [
    {
     "data": {
      "image/png": "[encoded data removed]",
      "text/plain": [
       "<Figure size 640x480 with 1 Axes>"
      ]
     },
     "metadata": {},
     "output_type": "display_data"
    }
   ],
   "source": [
    "ax=sns.barplot(x=df['confederation'].value_counts().index,\n",
    "               y=df['confederation'].value_counts().values,\n",
    "               color='orange')\n"
   ]
  },
  {
   "cell_type": "code",
   "execution_count": 76,
   "id": "d3eb24ed",
   "metadata": {},
   "outputs": [
    {
     "data": {
      "text/plain": [
       "(Float64Index([ 0.0,  0.1,  0.2,  0.3,  0.4,  0.5,  0.7,  0.9,  1.1,  0.6,  1.3,\n",
       "                0.8,  1.4,  2.5, 17.6,  2.3,  4.5,  1.9,  1.0,  1.7,  3.5,  2.1,\n",
       "                2.8,  1.2, 19.5,  2.2],\n",
       "              dtype='float64'),)"
      ]
     },
     "execution_count": 76,
     "metadata": {},
     "output_type": "execute_result"
    }
   ],
   "source": [
    "df['population_share'].value_counts().index,"
   ]
  },
  {
   "cell_type": "code",
   "execution_count": 77,
   "id": "e3a1c823",
   "metadata": {},
   "outputs": [
    {
     "data": {
      "image/png": "[encoded data removed]",
      "text/plain": [
       "<Figure size 432x288 with 1 Axes>"
      ]
     },
     "metadata": {
      "needs_background": "light"
     },
     "output_type": "display_data"
    }
   ],
   "source": [
    "ax=sns.countplot(x='population_share',data=df ,color='purple')"
   ]
  },
  {
   "cell_type": "code",
   "execution_count": 30,
   "id": "aa832872",
   "metadata": {},
   "outputs": [
    {
     "data": {
      "image/png": "[encoded data removed]",
      "text/plain": [
       "<Figure size 640x480 with 1 Axes>"
      ]
     },
     "metadata": {},
     "output_type": "display_data"
    }
   ],
   "source": [
    "ax=sns.countplot(x='population_share',hue='confederation', data= df , color='green')"
   ]
  },
  {
   "cell_type": "code",
   "execution_count": 79,
   "id": "212974c9",
   "metadata": {},
   "outputs": [
    {
     "data": {
      "text/plain": [
       "([<matplotlib.patches.Wedge at 0x1ae7f428760>,\n",
       "  <matplotlib.patches.Wedge at 0x1ae7f428e20>,\n",
       "  <matplotlib.patches.Wedge at 0x1ae7f436580>,\n",
       "  <matplotlib.patches.Wedge at 0x1ae7f436ca0>,\n",
       "  <matplotlib.patches.Wedge at 0x1ae7f443400>,\n",
       "  <matplotlib.patches.Wedge at 0x1ae7f443b20>],\n",
       " [Text(-0.8060640088728556, 0.7485057204857029, 'CAF'),\n",
       "  Text(-0.7418513471048707, -0.8121924518232664, 'UEFA'),\n",
       "  Text(0.7283926053612549, -0.824284060536805, 'AFC'),\n",
       "  Text(1.0319321717756955, 0.38094093092538156, 'CONCACAF'),\n",
       "  Text(0.5526094487203836, 0.9511166054616825, 'OFC'),\n",
       "  Text(0.18011475534378132, 1.0851537563439801, 'CONMEBOL')],\n",
       " [Text(-0.43967127756701213, 0.40827584753765606, '26.18%'),\n",
       "  Text(-0.4046461893299294, -0.4430140646308725, '24.08%'),\n",
       "  Text(0.39730505746977535, -0.44960948756553, '22.51%'),\n",
       "  Text(0.5628720936958339, 0.20778596232293536, '15.71%'),\n",
       "  Text(0.30142333566566376, 0.5187908757063722, '6.28%'),\n",
       "  Text(0.09824441200569889, 0.5919020489148982, '5.24%')])"
      ]
     },
     "execution_count": 79,
     "metadata": {},
     "output_type": "execute_result"
    },
    {
     "data": {
      "image/png": "[encoded data removed]",
      "text/plain": [
       "<Figure size 432x288 with 1 Axes>"
      ]
     },
     "metadata": {},
     "output_type": "display_data"
    }
   ],
   "source": [
    "fig1, ax1=plt.subplots()\n",
    "x=list(df['confederation'].value_counts().index)\n",
    "y=list(df['confederation'].value_counts())\n",
    "ax1.pie(y, labels=x, autopct='%1.2f%%', startangle=90)"
   ]
  },
  {
   "cell_type": "code",
   "execution_count": 31,
   "id": "e757c9a9",
   "metadata": {},
   "outputs": [
    {
     "data": {
      "text/plain": [
       "[<matplotlib.lines.Line2D at 0x188986a21f0>]"
      ]
     },
     "execution_count": 31,
     "metadata": {},
     "output_type": "execute_result"
    },
    {
     "data": {
      "image/png": "[encoded data removed]",
      "text/plain": [
       "<Figure size 640x480 with 1 Axes>"
      ]
     },
     "metadata": {},
     "output_type": "display_data"
    }
   ],
   "source": [
    "plt.plot(df['population_share'])"
   ]
  },
  {
   "cell_type": "code",
   "execution_count": 33,
   "id": "b8929062",
   "metadata": {},
   "outputs": [
    {
     "data": {
      "text/plain": [
       "[<matplotlib.lines.Line2D at 0x18898714d00>]"
      ]
     },
     "execution_count": 33,
     "metadata": {},
     "output_type": "execute_result"
    },
    {
     "data": {
      "image/png": "[encoded data removed]",
      "text/plain": [
       "<Figure size 640x480 with 1 Axes>"
      ]
     },
     "metadata": {},
     "output_type": "display_data"
    }
   ],
   "source": [
    "plt.plot(df['tv_audience_share'])"
   ]
  },
  {
   "cell_type": "code",
   "execution_count": 34,
   "id": "db8a2a44",
   "metadata": {},
   "outputs": [
    {
     "data": {
      "text/plain": [
       "[<matplotlib.lines.Line2D at 0x18898565b50>]"
      ]
     },
     "execution_count": 34,
     "metadata": {},
     "output_type": "execute_result"
    },
    {
     "data": {
      "image/png": "[encoded data removed]",
      "text/plain": [
       "<Figure size 640x480 with 1 Axes>"
      ]
     },
     "metadata": {},
     "output_type": "display_data"
    }
   ],
   "source": [
    "plt.plot(df['confederation'])"
   ]
  },
  {
   "cell_type": "code",
   "execution_count": 35,
   "id": "d5ab1307",
   "metadata": {},
   "outputs": [
    {
     "data": {
      "text/plain": [
       "[<matplotlib.lines.Line2D at 0x188987745b0>]"
      ]
     },
     "execution_count": 35,
     "metadata": {},
     "output_type": "execute_result"
    },
    {
     "data": {
      "image/png": "[encoded data removed]",
      "text/plain": [
       "<Figure size 640x480 with 1 Axes>"
      ]
     },
     "metadata": {},
     "output_type": "display_data"
    }
   ],
   "source": [
    "plt.plot(df['gdp_weighted_share'])"
   ]
  },
  {
   "cell_type": "code",
   "execution_count": 36,
   "id": "1951a6c5",
   "metadata": {},
   "outputs": [
    {
     "name": "stdout",
     "output_type": "stream",
     "text": [
      "[]\n"
     ]
    }
   ],
   "source": [
    "zero_variance_categorical_variables = []\n",
    "# categorical variables with zero variance goes in here\n",
    "\n",
    "for column in df: #for each column\n",
    "    if len(pd.unique(df[column]))==1: #check the length, if 1, means zero variance\n",
    "        zero_variance_categorical_variables.append(column)\n",
    "print(zero_variance_categorical_variables) #these are the columns with zero variance\n",
    "\n",
    "\n",
    "# categorical variables goes in here\n",
    "for item in zero_variance_categorical_variables:#dropping the required columns\n",
    "    df.drop(columns = [item],inplace=True)\n"
   ]
  },
  {
   "cell_type": "code",
   "execution_count": 38,
   "id": "91201c42",
   "metadata": {},
   "outputs": [],
   "source": [
    "categorical_varables = list(set(df.dtypes[df.dtypes == object].index))\n",
    "# your code to find the \n",
    "# categorical variables with high variance (i.e., cardinality) goes in here\n",
    "high_cardinality_categorical_variables = []\n",
    "for i in categorical_varables:\n",
    "  if len(df[i].value_counts().index) > 190:\n",
    "    high_cardinality_categorical_variables.append(i)\n",
    "\n",
    "\n",
    "# your code to drop the high cardinality\n",
    "# categorical variables goes in here \n",
    "df = df.drop(columns=high_cardinality_categorical_variables)"
   ]
  },
  {
   "cell_type": "code",
   "execution_count": 42,
   "id": "a08c2cf2",
   "metadata": {},
   "outputs": [
    {
     "data": {
      "text/html": [
       "<div>\n",
       "<style scoped>\n",
       "    .dataframe tbody tr th:only-of-type {\n",
       "        vertical-align: middle;\n",
       "    }\n",
       "\n",
       "    .dataframe tbody tr th {\n",
       "        vertical-align: top;\n",
       "    }\n",
       "\n",
       "    .dataframe thead th {\n",
       "        text-align: right;\n",
       "    }\n",
       "</style>\n",
       "<table border=\"1\" class=\"dataframe\">\n",
       "  <thead>\n",
       "    <tr style=\"text-align: right;\">\n",
       "      <th></th>\n",
       "      <th>confederation</th>\n",
       "      <th>population_share</th>\n",
       "      <th>tv_audience_share</th>\n",
       "      <th>gdp_weighted_share</th>\n",
       "    </tr>\n",
       "  </thead>\n",
       "  <tbody>\n",
       "    <tr>\n",
       "      <th>0</th>\n",
       "      <td>CONCACAF</td>\n",
       "      <td>2.034316</td>\n",
       "      <td>2.612486</td>\n",
       "      <td>7.414897</td>\n",
       "    </tr>\n",
       "    <tr>\n",
       "      <th>1</th>\n",
       "      <td>AFC</td>\n",
       "      <td>0.704526</td>\n",
       "      <td>3.027500</td>\n",
       "      <td>5.901594</td>\n",
       "    </tr>\n",
       "    <tr>\n",
       "      <th>2</th>\n",
       "      <td>AFC</td>\n",
       "      <td>9.706181</td>\n",
       "      <td>9.875228</td>\n",
       "      <td>4.663437</td>\n",
       "    </tr>\n",
       "    <tr>\n",
       "      <th>3</th>\n",
       "      <td>UEFA</td>\n",
       "      <td>0.346506</td>\n",
       "      <td>1.644121</td>\n",
       "      <td>3.975572</td>\n",
       "    </tr>\n",
       "    <tr>\n",
       "      <th>4</th>\n",
       "      <td>CONMEBOL</td>\n",
       "      <td>1.164838</td>\n",
       "      <td>4.549217</td>\n",
       "      <td>3.356493</td>\n",
       "    </tr>\n",
       "    <tr>\n",
       "      <th>...</th>\n",
       "      <td>...</td>\n",
       "      <td>...</td>\n",
       "      <td>...</td>\n",
       "      <td>...</td>\n",
       "    </tr>\n",
       "    <tr>\n",
       "      <th>186</th>\n",
       "      <td>OFC</td>\n",
       "      <td>-0.267243</td>\n",
       "      <td>-0.361779</td>\n",
       "      <td>-0.357978</td>\n",
       "    </tr>\n",
       "    <tr>\n",
       "      <th>187</th>\n",
       "      <td>CAF</td>\n",
       "      <td>-0.216098</td>\n",
       "      <td>-0.361779</td>\n",
       "      <td>-0.357978</td>\n",
       "    </tr>\n",
       "    <tr>\n",
       "      <th>188</th>\n",
       "      <td>OFC</td>\n",
       "      <td>-0.267243</td>\n",
       "      <td>-0.361779</td>\n",
       "      <td>-0.357978</td>\n",
       "    </tr>\n",
       "    <tr>\n",
       "      <th>189</th>\n",
       "      <td>OFC</td>\n",
       "      <td>-0.267243</td>\n",
       "      <td>-0.361779</td>\n",
       "      <td>-0.357978</td>\n",
       "    </tr>\n",
       "    <tr>\n",
       "      <th>190</th>\n",
       "      <td>OFC</td>\n",
       "      <td>-0.267243</td>\n",
       "      <td>-0.361779</td>\n",
       "      <td>-0.357978</td>\n",
       "    </tr>\n",
       "  </tbody>\n",
       "</table>\n",
       "<p>191 rows × 4 columns</p>\n",
       "</div>"
      ],
      "text/plain": [
       "    confederation  population_share  tv_audience_share  gdp_weighted_share\n",
       "0        CONCACAF          2.034316           2.612486            7.414897\n",
       "1             AFC          0.704526           3.027500            5.901594\n",
       "2             AFC          9.706181           9.875228            4.663437\n",
       "3            UEFA          0.346506           1.644121            3.975572\n",
       "4        CONMEBOL          1.164838           4.549217            3.356493\n",
       "..            ...               ...                ...                 ...\n",
       "186           OFC         -0.267243          -0.361779           -0.357978\n",
       "187           CAF         -0.216098          -0.361779           -0.357978\n",
       "188           OFC         -0.267243          -0.361779           -0.357978\n",
       "189           OFC         -0.267243          -0.361779           -0.357978\n",
       "190           OFC         -0.267243          -0.361779           -0.357978\n",
       "\n",
       "[191 rows x 4 columns]"
      ]
     },
     "execution_count": 42,
     "metadata": {},
     "output_type": "execute_result"
    }
   ],
   "source": [
    "new_df =df\n",
    "# We are extracting columns which has numerical value\n",
    "with_numerical_value = df.select_dtypes(include=np.number)\n",
    "\n",
    "from sklearn.preprocessing import StandardScaler\n",
    "\n",
    "scaler = StandardScaler()\n",
    "scaler.fit_transform(with_numerical_value)\n",
    "#above line changes all the data in standardized form.\n",
    "\n",
    "# Converting scaled values(ndarray) to dataframe.\n",
    "scaled_df = pd.DataFrame(data= scaler.fit_transform(with_numerical_value),columns= with_numerical_value.columns.tolist())    #column names\n",
    "\n",
    "df = df.drop(columns=with_numerical_value,axis=1)\n",
    "\n",
    "# your code to standardize numerical variables goes in here\n",
    "df = pd.concat([df,scaled_df],axis=1)\n",
    "df"
   ]
  },
  {
   "cell_type": "code",
   "execution_count": 46,
   "id": "135f7d33",
   "metadata": {},
   "outputs": [
    {
     "ename": "KeyError",
     "evalue": "\"['country'] not found in axis\"",
     "output_type": "error",
     "traceback": [
      "\u001b[1;31m---------------------------------------------------------------------------\u001b[0m",
      "\u001b[1;31mKeyError\u001b[0m                                  Traceback (most recent call last)",
      "\u001b[1;32m~\\AppData\\Local\\Temp\\ipykernel_24740\\1317812033.py\u001b[0m in \u001b[0;36m<module>\u001b[1;34m\u001b[0m\n\u001b[1;32m----> 1\u001b[1;33m \u001b[0mdf\u001b[0m\u001b[1;33m.\u001b[0m\u001b[0mdrop\u001b[0m\u001b[1;33m(\u001b[0m\u001b[0mcolumns\u001b[0m\u001b[1;33m=\u001b[0m\u001b[1;33m[\u001b[0m\u001b[1;34m'country'\u001b[0m\u001b[1;33m]\u001b[0m \u001b[1;33m,\u001b[0m \u001b[0minplace\u001b[0m \u001b[1;33m=\u001b[0m \u001b[1;32mTrue\u001b[0m\u001b[1;33m)\u001b[0m\u001b[1;33m\u001b[0m\u001b[1;33m\u001b[0m\u001b[0m\n\u001b[0m",
      "\u001b[1;32mC:\\ProgramData\\Anaconda3\\lib\\site-packages\\pandas\\util\\_decorators.py\u001b[0m in \u001b[0;36mwrapper\u001b[1;34m(*args, **kwargs)\u001b[0m\n\u001b[0;32m    309\u001b[0m                     \u001b[0mstacklevel\u001b[0m\u001b[1;33m=\u001b[0m\u001b[0mstacklevel\u001b[0m\u001b[1;33m,\u001b[0m\u001b[1;33m\u001b[0m\u001b[1;33m\u001b[0m\u001b[0m\n\u001b[0;32m    310\u001b[0m                 )\n\u001b[1;32m--> 311\u001b[1;33m             \u001b[1;32mreturn\u001b[0m \u001b[0mfunc\u001b[0m\u001b[1;33m(\u001b[0m\u001b[1;33m*\u001b[0m\u001b[0margs\u001b[0m\u001b[1;33m,\u001b[0m \u001b[1;33m**\u001b[0m\u001b[0mkwargs\u001b[0m\u001b[1;33m)\u001b[0m\u001b[1;33m\u001b[0m\u001b[1;33m\u001b[0m\u001b[0m\n\u001b[0m\u001b[0;32m    312\u001b[0m \u001b[1;33m\u001b[0m\u001b[0m\n\u001b[0;32m    313\u001b[0m         \u001b[1;32mreturn\u001b[0m \u001b[0mwrapper\u001b[0m\u001b[1;33m\u001b[0m\u001b[1;33m\u001b[0m\u001b[0m\n",
      "\u001b[1;32mC:\\ProgramData\\Anaconda3\\lib\\site-packages\\pandas\\core\\frame.py\u001b[0m in \u001b[0;36mdrop\u001b[1;34m(self, labels, axis, index, columns, level, inplace, errors)\u001b[0m\n\u001b[0;32m   4955\u001b[0m                 \u001b[0mweight\u001b[0m  \u001b[1;36m1.0\u001b[0m     \u001b[1;36m0.8\u001b[0m\u001b[1;33m\u001b[0m\u001b[1;33m\u001b[0m\u001b[0m\n\u001b[0;32m   4956\u001b[0m         \"\"\"\n\u001b[1;32m-> 4957\u001b[1;33m         return super().drop(\n\u001b[0m\u001b[0;32m   4958\u001b[0m             \u001b[0mlabels\u001b[0m\u001b[1;33m=\u001b[0m\u001b[0mlabels\u001b[0m\u001b[1;33m,\u001b[0m\u001b[1;33m\u001b[0m\u001b[1;33m\u001b[0m\u001b[0m\n\u001b[0;32m   4959\u001b[0m             \u001b[0maxis\u001b[0m\u001b[1;33m=\u001b[0m\u001b[0maxis\u001b[0m\u001b[1;33m,\u001b[0m\u001b[1;33m\u001b[0m\u001b[1;33m\u001b[0m\u001b[0m\n",
      "\u001b[1;32mC:\\ProgramData\\Anaconda3\\lib\\site-packages\\pandas\\core\\generic.py\u001b[0m in \u001b[0;36mdrop\u001b[1;34m(self, labels, axis, index, columns, level, inplace, errors)\u001b[0m\n\u001b[0;32m   4265\u001b[0m         \u001b[1;32mfor\u001b[0m \u001b[0maxis\u001b[0m\u001b[1;33m,\u001b[0m \u001b[0mlabels\u001b[0m \u001b[1;32min\u001b[0m \u001b[0maxes\u001b[0m\u001b[1;33m.\u001b[0m\u001b[0mitems\u001b[0m\u001b[1;33m(\u001b[0m\u001b[1;33m)\u001b[0m\u001b[1;33m:\u001b[0m\u001b[1;33m\u001b[0m\u001b[1;33m\u001b[0m\u001b[0m\n\u001b[0;32m   4266\u001b[0m             \u001b[1;32mif\u001b[0m \u001b[0mlabels\u001b[0m \u001b[1;32mis\u001b[0m \u001b[1;32mnot\u001b[0m \u001b[1;32mNone\u001b[0m\u001b[1;33m:\u001b[0m\u001b[1;33m\u001b[0m\u001b[1;33m\u001b[0m\u001b[0m\n\u001b[1;32m-> 4267\u001b[1;33m                 \u001b[0mobj\u001b[0m \u001b[1;33m=\u001b[0m \u001b[0mobj\u001b[0m\u001b[1;33m.\u001b[0m\u001b[0m_drop_axis\u001b[0m\u001b[1;33m(\u001b[0m\u001b[0mlabels\u001b[0m\u001b[1;33m,\u001b[0m \u001b[0maxis\u001b[0m\u001b[1;33m,\u001b[0m \u001b[0mlevel\u001b[0m\u001b[1;33m=\u001b[0m\u001b[0mlevel\u001b[0m\u001b[1;33m,\u001b[0m \u001b[0merrors\u001b[0m\u001b[1;33m=\u001b[0m\u001b[0merrors\u001b[0m\u001b[1;33m)\u001b[0m\u001b[1;33m\u001b[0m\u001b[1;33m\u001b[0m\u001b[0m\n\u001b[0m\u001b[0;32m   4268\u001b[0m \u001b[1;33m\u001b[0m\u001b[0m\n\u001b[0;32m   4269\u001b[0m         \u001b[1;32mif\u001b[0m \u001b[0minplace\u001b[0m\u001b[1;33m:\u001b[0m\u001b[1;33m\u001b[0m\u001b[1;33m\u001b[0m\u001b[0m\n",
      "\u001b[1;32mC:\\ProgramData\\Anaconda3\\lib\\site-packages\\pandas\\core\\generic.py\u001b[0m in \u001b[0;36m_drop_axis\u001b[1;34m(self, labels, axis, level, errors, consolidate, only_slice)\u001b[0m\n\u001b[0;32m   4309\u001b[0m                 \u001b[0mnew_axis\u001b[0m \u001b[1;33m=\u001b[0m \u001b[0maxis\u001b[0m\u001b[1;33m.\u001b[0m\u001b[0mdrop\u001b[0m\u001b[1;33m(\u001b[0m\u001b[0mlabels\u001b[0m\u001b[1;33m,\u001b[0m \u001b[0mlevel\u001b[0m\u001b[1;33m=\u001b[0m\u001b[0mlevel\u001b[0m\u001b[1;33m,\u001b[0m \u001b[0merrors\u001b[0m\u001b[1;33m=\u001b[0m\u001b[0merrors\u001b[0m\u001b[1;33m)\u001b[0m\u001b[1;33m\u001b[0m\u001b[1;33m\u001b[0m\u001b[0m\n\u001b[0;32m   4310\u001b[0m             \u001b[1;32melse\u001b[0m\u001b[1;33m:\u001b[0m\u001b[1;33m\u001b[0m\u001b[1;33m\u001b[0m\u001b[0m\n\u001b[1;32m-> 4311\u001b[1;33m                 \u001b[0mnew_axis\u001b[0m \u001b[1;33m=\u001b[0m \u001b[0maxis\u001b[0m\u001b[1;33m.\u001b[0m\u001b[0mdrop\u001b[0m\u001b[1;33m(\u001b[0m\u001b[0mlabels\u001b[0m\u001b[1;33m,\u001b[0m \u001b[0merrors\u001b[0m\u001b[1;33m=\u001b[0m\u001b[0merrors\u001b[0m\u001b[1;33m)\u001b[0m\u001b[1;33m\u001b[0m\u001b[1;33m\u001b[0m\u001b[0m\n\u001b[0m\u001b[0;32m   4312\u001b[0m             \u001b[0mindexer\u001b[0m \u001b[1;33m=\u001b[0m \u001b[0maxis\u001b[0m\u001b[1;33m.\u001b[0m\u001b[0mget_indexer\u001b[0m\u001b[1;33m(\u001b[0m\u001b[0mnew_axis\u001b[0m\u001b[1;33m)\u001b[0m\u001b[1;33m\u001b[0m\u001b[1;33m\u001b[0m\u001b[0m\n\u001b[0;32m   4313\u001b[0m \u001b[1;33m\u001b[0m\u001b[0m\n",
      "\u001b[1;32mC:\\ProgramData\\Anaconda3\\lib\\site-packages\\pandas\\core\\indexes\\base.py\u001b[0m in \u001b[0;36mdrop\u001b[1;34m(self, labels, errors)\u001b[0m\n\u001b[0;32m   6659\u001b[0m         \u001b[1;32mif\u001b[0m \u001b[0mmask\u001b[0m\u001b[1;33m.\u001b[0m\u001b[0many\u001b[0m\u001b[1;33m(\u001b[0m\u001b[1;33m)\u001b[0m\u001b[1;33m:\u001b[0m\u001b[1;33m\u001b[0m\u001b[1;33m\u001b[0m\u001b[0m\n\u001b[0;32m   6660\u001b[0m             \u001b[1;32mif\u001b[0m \u001b[0merrors\u001b[0m \u001b[1;33m!=\u001b[0m \u001b[1;34m\"ignore\"\u001b[0m\u001b[1;33m:\u001b[0m\u001b[1;33m\u001b[0m\u001b[1;33m\u001b[0m\u001b[0m\n\u001b[1;32m-> 6661\u001b[1;33m                 \u001b[1;32mraise\u001b[0m \u001b[0mKeyError\u001b[0m\u001b[1;33m(\u001b[0m\u001b[1;34mf\"{list(labels[mask])} not found in axis\"\u001b[0m\u001b[1;33m)\u001b[0m\u001b[1;33m\u001b[0m\u001b[1;33m\u001b[0m\u001b[0m\n\u001b[0m\u001b[0;32m   6662\u001b[0m             \u001b[0mindexer\u001b[0m \u001b[1;33m=\u001b[0m \u001b[0mindexer\u001b[0m\u001b[1;33m[\u001b[0m\u001b[1;33m~\u001b[0m\u001b[0mmask\u001b[0m\u001b[1;33m]\u001b[0m\u001b[1;33m\u001b[0m\u001b[1;33m\u001b[0m\u001b[0m\n\u001b[0;32m   6663\u001b[0m         \u001b[1;32mreturn\u001b[0m \u001b[0mself\u001b[0m\u001b[1;33m.\u001b[0m\u001b[0mdelete\u001b[0m\u001b[1;33m(\u001b[0m\u001b[0mindexer\u001b[0m\u001b[1;33m)\u001b[0m\u001b[1;33m\u001b[0m\u001b[1;33m\u001b[0m\u001b[0m\n",
      "\u001b[1;31mKeyError\u001b[0m: \"['country'] not found in axis\""
     ]
    }
   ],
   "source": [
    "df.drop(columns=['country'] , inplace = True)"
   ]
  },
  {
   "cell_type": "code",
   "execution_count": 47,
   "id": "5fbd43c5",
   "metadata": {},
   "outputs": [
    {
     "ename": "KeyError",
     "evalue": "\"['confederation'] not found in axis\"",
     "output_type": "error",
     "traceback": [
      "\u001b[1;31m---------------------------------------------------------------------------\u001b[0m",
      "\u001b[1;31mKeyError\u001b[0m                                  Traceback (most recent call last)",
      "\u001b[1;32m~\\AppData\\Local\\Temp\\ipykernel_24740\\3204880905.py\u001b[0m in \u001b[0;36m<module>\u001b[1;34m\u001b[0m\n\u001b[1;32m----> 1\u001b[1;33m \u001b[0mdf\u001b[0m\u001b[1;33m.\u001b[0m\u001b[0mdrop\u001b[0m\u001b[1;33m(\u001b[0m\u001b[0mcolumns\u001b[0m\u001b[1;33m=\u001b[0m\u001b[1;33m[\u001b[0m\u001b[1;34m'confederation'\u001b[0m\u001b[1;33m]\u001b[0m \u001b[1;33m,\u001b[0m \u001b[0minplace\u001b[0m \u001b[1;33m=\u001b[0m \u001b[1;32mTrue\u001b[0m\u001b[1;33m)\u001b[0m\u001b[1;33m\u001b[0m\u001b[1;33m\u001b[0m\u001b[0m\n\u001b[0m",
      "\u001b[1;32mC:\\ProgramData\\Anaconda3\\lib\\site-packages\\pandas\\util\\_decorators.py\u001b[0m in \u001b[0;36mwrapper\u001b[1;34m(*args, **kwargs)\u001b[0m\n\u001b[0;32m    309\u001b[0m                     \u001b[0mstacklevel\u001b[0m\u001b[1;33m=\u001b[0m\u001b[0mstacklevel\u001b[0m\u001b[1;33m,\u001b[0m\u001b[1;33m\u001b[0m\u001b[1;33m\u001b[0m\u001b[0m\n\u001b[0;32m    310\u001b[0m                 )\n\u001b[1;32m--> 311\u001b[1;33m             \u001b[1;32mreturn\u001b[0m \u001b[0mfunc\u001b[0m\u001b[1;33m(\u001b[0m\u001b[1;33m*\u001b[0m\u001b[0margs\u001b[0m\u001b[1;33m,\u001b[0m \u001b[1;33m**\u001b[0m\u001b[0mkwargs\u001b[0m\u001b[1;33m)\u001b[0m\u001b[1;33m\u001b[0m\u001b[1;33m\u001b[0m\u001b[0m\n\u001b[0m\u001b[0;32m    312\u001b[0m \u001b[1;33m\u001b[0m\u001b[0m\n\u001b[0;32m    313\u001b[0m         \u001b[1;32mreturn\u001b[0m \u001b[0mwrapper\u001b[0m\u001b[1;33m\u001b[0m\u001b[1;33m\u001b[0m\u001b[0m\n",
      "\u001b[1;32mC:\\ProgramData\\Anaconda3\\lib\\site-packages\\pandas\\core\\frame.py\u001b[0m in \u001b[0;36mdrop\u001b[1;34m(self, labels, axis, index, columns, level, inplace, errors)\u001b[0m\n\u001b[0;32m   4955\u001b[0m                 \u001b[0mweight\u001b[0m  \u001b[1;36m1.0\u001b[0m     \u001b[1;36m0.8\u001b[0m\u001b[1;33m\u001b[0m\u001b[1;33m\u001b[0m\u001b[0m\n\u001b[0;32m   4956\u001b[0m         \"\"\"\n\u001b[1;32m-> 4957\u001b[1;33m         return super().drop(\n\u001b[0m\u001b[0;32m   4958\u001b[0m             \u001b[0mlabels\u001b[0m\u001b[1;33m=\u001b[0m\u001b[0mlabels\u001b[0m\u001b[1;33m,\u001b[0m\u001b[1;33m\u001b[0m\u001b[1;33m\u001b[0m\u001b[0m\n\u001b[0;32m   4959\u001b[0m             \u001b[0maxis\u001b[0m\u001b[1;33m=\u001b[0m\u001b[0maxis\u001b[0m\u001b[1;33m,\u001b[0m\u001b[1;33m\u001b[0m\u001b[1;33m\u001b[0m\u001b[0m\n",
      "\u001b[1;32mC:\\ProgramData\\Anaconda3\\lib\\site-packages\\pandas\\core\\generic.py\u001b[0m in \u001b[0;36mdrop\u001b[1;34m(self, labels, axis, index, columns, level, inplace, errors)\u001b[0m\n\u001b[0;32m   4265\u001b[0m         \u001b[1;32mfor\u001b[0m \u001b[0maxis\u001b[0m\u001b[1;33m,\u001b[0m \u001b[0mlabels\u001b[0m \u001b[1;32min\u001b[0m \u001b[0maxes\u001b[0m\u001b[1;33m.\u001b[0m\u001b[0mitems\u001b[0m\u001b[1;33m(\u001b[0m\u001b[1;33m)\u001b[0m\u001b[1;33m:\u001b[0m\u001b[1;33m\u001b[0m\u001b[1;33m\u001b[0m\u001b[0m\n\u001b[0;32m   4266\u001b[0m             \u001b[1;32mif\u001b[0m \u001b[0mlabels\u001b[0m \u001b[1;32mis\u001b[0m \u001b[1;32mnot\u001b[0m \u001b[1;32mNone\u001b[0m\u001b[1;33m:\u001b[0m\u001b[1;33m\u001b[0m\u001b[1;33m\u001b[0m\u001b[0m\n\u001b[1;32m-> 4267\u001b[1;33m                 \u001b[0mobj\u001b[0m \u001b[1;33m=\u001b[0m \u001b[0mobj\u001b[0m\u001b[1;33m.\u001b[0m\u001b[0m_drop_axis\u001b[0m\u001b[1;33m(\u001b[0m\u001b[0mlabels\u001b[0m\u001b[1;33m,\u001b[0m \u001b[0maxis\u001b[0m\u001b[1;33m,\u001b[0m \u001b[0mlevel\u001b[0m\u001b[1;33m=\u001b[0m\u001b[0mlevel\u001b[0m\u001b[1;33m,\u001b[0m \u001b[0merrors\u001b[0m\u001b[1;33m=\u001b[0m\u001b[0merrors\u001b[0m\u001b[1;33m)\u001b[0m\u001b[1;33m\u001b[0m\u001b[1;33m\u001b[0m\u001b[0m\n\u001b[0m\u001b[0;32m   4268\u001b[0m \u001b[1;33m\u001b[0m\u001b[0m\n\u001b[0;32m   4269\u001b[0m         \u001b[1;32mif\u001b[0m \u001b[0minplace\u001b[0m\u001b[1;33m:\u001b[0m\u001b[1;33m\u001b[0m\u001b[1;33m\u001b[0m\u001b[0m\n",
      "\u001b[1;32mC:\\ProgramData\\Anaconda3\\lib\\site-packages\\pandas\\core\\generic.py\u001b[0m in \u001b[0;36m_drop_axis\u001b[1;34m(self, labels, axis, level, errors, consolidate, only_slice)\u001b[0m\n\u001b[0;32m   4309\u001b[0m                 \u001b[0mnew_axis\u001b[0m \u001b[1;33m=\u001b[0m \u001b[0maxis\u001b[0m\u001b[1;33m.\u001b[0m\u001b[0mdrop\u001b[0m\u001b[1;33m(\u001b[0m\u001b[0mlabels\u001b[0m\u001b[1;33m,\u001b[0m \u001b[0mlevel\u001b[0m\u001b[1;33m=\u001b[0m\u001b[0mlevel\u001b[0m\u001b[1;33m,\u001b[0m \u001b[0merrors\u001b[0m\u001b[1;33m=\u001b[0m\u001b[0merrors\u001b[0m\u001b[1;33m)\u001b[0m\u001b[1;33m\u001b[0m\u001b[1;33m\u001b[0m\u001b[0m\n\u001b[0;32m   4310\u001b[0m             \u001b[1;32melse\u001b[0m\u001b[1;33m:\u001b[0m\u001b[1;33m\u001b[0m\u001b[1;33m\u001b[0m\u001b[0m\n\u001b[1;32m-> 4311\u001b[1;33m                 \u001b[0mnew_axis\u001b[0m \u001b[1;33m=\u001b[0m \u001b[0maxis\u001b[0m\u001b[1;33m.\u001b[0m\u001b[0mdrop\u001b[0m\u001b[1;33m(\u001b[0m\u001b[0mlabels\u001b[0m\u001b[1;33m,\u001b[0m \u001b[0merrors\u001b[0m\u001b[1;33m=\u001b[0m\u001b[0merrors\u001b[0m\u001b[1;33m)\u001b[0m\u001b[1;33m\u001b[0m\u001b[1;33m\u001b[0m\u001b[0m\n\u001b[0m\u001b[0;32m   4312\u001b[0m             \u001b[0mindexer\u001b[0m \u001b[1;33m=\u001b[0m \u001b[0maxis\u001b[0m\u001b[1;33m.\u001b[0m\u001b[0mget_indexer\u001b[0m\u001b[1;33m(\u001b[0m\u001b[0mnew_axis\u001b[0m\u001b[1;33m)\u001b[0m\u001b[1;33m\u001b[0m\u001b[1;33m\u001b[0m\u001b[0m\n\u001b[0;32m   4313\u001b[0m \u001b[1;33m\u001b[0m\u001b[0m\n",
      "\u001b[1;32mC:\\ProgramData\\Anaconda3\\lib\\site-packages\\pandas\\core\\indexes\\base.py\u001b[0m in \u001b[0;36mdrop\u001b[1;34m(self, labels, errors)\u001b[0m\n\u001b[0;32m   6659\u001b[0m         \u001b[1;32mif\u001b[0m \u001b[0mmask\u001b[0m\u001b[1;33m.\u001b[0m\u001b[0many\u001b[0m\u001b[1;33m(\u001b[0m\u001b[1;33m)\u001b[0m\u001b[1;33m:\u001b[0m\u001b[1;33m\u001b[0m\u001b[1;33m\u001b[0m\u001b[0m\n\u001b[0;32m   6660\u001b[0m             \u001b[1;32mif\u001b[0m \u001b[0merrors\u001b[0m \u001b[1;33m!=\u001b[0m \u001b[1;34m\"ignore\"\u001b[0m\u001b[1;33m:\u001b[0m\u001b[1;33m\u001b[0m\u001b[1;33m\u001b[0m\u001b[0m\n\u001b[1;32m-> 6661\u001b[1;33m                 \u001b[1;32mraise\u001b[0m \u001b[0mKeyError\u001b[0m\u001b[1;33m(\u001b[0m\u001b[1;34mf\"{list(labels[mask])} not found in axis\"\u001b[0m\u001b[1;33m)\u001b[0m\u001b[1;33m\u001b[0m\u001b[1;33m\u001b[0m\u001b[0m\n\u001b[0m\u001b[0;32m   6662\u001b[0m             \u001b[0mindexer\u001b[0m \u001b[1;33m=\u001b[0m \u001b[0mindexer\u001b[0m\u001b[1;33m[\u001b[0m\u001b[1;33m~\u001b[0m\u001b[0mmask\u001b[0m\u001b[1;33m]\u001b[0m\u001b[1;33m\u001b[0m\u001b[1;33m\u001b[0m\u001b[0m\n\u001b[0;32m   6663\u001b[0m         \u001b[1;32mreturn\u001b[0m \u001b[0mself\u001b[0m\u001b[1;33m.\u001b[0m\u001b[0mdelete\u001b[0m\u001b[1;33m(\u001b[0m\u001b[0mindexer\u001b[0m\u001b[1;33m)\u001b[0m\u001b[1;33m\u001b[0m\u001b[1;33m\u001b[0m\u001b[0m\n",
      "\u001b[1;31mKeyError\u001b[0m: \"['confederation'] not found in axis\""
     ]
    }
   ],
   "source": [
    "df.drop(columns=['confederation'] , inplace = True)"
   ]
  },
  {
   "cell_type": "code",
   "execution_count": 48,
   "id": "018b5d63",
   "metadata": {},
   "outputs": [
    {
     "data": {
      "text/html": [
       "<div>\n",
       "<style scoped>\n",
       "    .dataframe tbody tr th:only-of-type {\n",
       "        vertical-align: middle;\n",
       "    }\n",
       "\n",
       "    .dataframe tbody tr th {\n",
       "        vertical-align: top;\n",
       "    }\n",
       "\n",
       "    .dataframe thead th {\n",
       "        text-align: right;\n",
       "    }\n",
       "</style>\n",
       "<table border=\"1\" class=\"dataframe\">\n",
       "  <thead>\n",
       "    <tr style=\"text-align: right;\">\n",
       "      <th></th>\n",
       "      <th>population_share</th>\n",
       "      <th>tv_audience_share</th>\n",
       "      <th>gdp_weighted_share</th>\n",
       "    </tr>\n",
       "  </thead>\n",
       "  <tbody>\n",
       "    <tr>\n",
       "      <th>0</th>\n",
       "      <td>2.034316</td>\n",
       "      <td>2.612486</td>\n",
       "      <td>7.414897</td>\n",
       "    </tr>\n",
       "    <tr>\n",
       "      <th>1</th>\n",
       "      <td>0.704526</td>\n",
       "      <td>3.027500</td>\n",
       "      <td>5.901594</td>\n",
       "    </tr>\n",
       "    <tr>\n",
       "      <th>2</th>\n",
       "      <td>9.706181</td>\n",
       "      <td>9.875228</td>\n",
       "      <td>4.663437</td>\n",
       "    </tr>\n",
       "    <tr>\n",
       "      <th>3</th>\n",
       "      <td>0.346506</td>\n",
       "      <td>1.644121</td>\n",
       "      <td>3.975572</td>\n",
       "    </tr>\n",
       "    <tr>\n",
       "      <th>4</th>\n",
       "      <td>1.164838</td>\n",
       "      <td>4.549217</td>\n",
       "      <td>3.356493</td>\n",
       "    </tr>\n",
       "    <tr>\n",
       "      <th>...</th>\n",
       "      <td>...</td>\n",
       "      <td>...</td>\n",
       "      <td>...</td>\n",
       "    </tr>\n",
       "    <tr>\n",
       "      <th>186</th>\n",
       "      <td>-0.267243</td>\n",
       "      <td>-0.361779</td>\n",
       "      <td>-0.357978</td>\n",
       "    </tr>\n",
       "    <tr>\n",
       "      <th>187</th>\n",
       "      <td>-0.216098</td>\n",
       "      <td>-0.361779</td>\n",
       "      <td>-0.357978</td>\n",
       "    </tr>\n",
       "    <tr>\n",
       "      <th>188</th>\n",
       "      <td>-0.267243</td>\n",
       "      <td>-0.361779</td>\n",
       "      <td>-0.357978</td>\n",
       "    </tr>\n",
       "    <tr>\n",
       "      <th>189</th>\n",
       "      <td>-0.267243</td>\n",
       "      <td>-0.361779</td>\n",
       "      <td>-0.357978</td>\n",
       "    </tr>\n",
       "    <tr>\n",
       "      <th>190</th>\n",
       "      <td>-0.267243</td>\n",
       "      <td>-0.361779</td>\n",
       "      <td>-0.357978</td>\n",
       "    </tr>\n",
       "  </tbody>\n",
       "</table>\n",
       "<p>191 rows × 3 columns</p>\n",
       "</div>"
      ],
      "text/plain": [
       "     population_share  tv_audience_share  gdp_weighted_share\n",
       "0            2.034316           2.612486            7.414897\n",
       "1            0.704526           3.027500            5.901594\n",
       "2            9.706181           9.875228            4.663437\n",
       "3            0.346506           1.644121            3.975572\n",
       "4            1.164838           4.549217            3.356493\n",
       "..                ...                ...                 ...\n",
       "186         -0.267243          -0.361779           -0.357978\n",
       "187         -0.216098          -0.361779           -0.357978\n",
       "188         -0.267243          -0.361779           -0.357978\n",
       "189         -0.267243          -0.361779           -0.357978\n",
       "190         -0.267243          -0.361779           -0.357978\n",
       "\n",
       "[191 rows x 3 columns]"
      ]
     },
     "execution_count": 48,
     "metadata": {},
     "output_type": "execute_result"
    }
   ],
   "source": [
    "df"
   ]
  },
  {
   "cell_type": "code",
   "execution_count": 51,
   "id": "763bd263",
   "metadata": {},
   "outputs": [
    {
     "data": {
      "text/html": [
       "<div>\n",
       "<style scoped>\n",
       "    .dataframe tbody tr th:only-of-type {\n",
       "        vertical-align: middle;\n",
       "    }\n",
       "\n",
       "    .dataframe tbody tr th {\n",
       "        vertical-align: top;\n",
       "    }\n",
       "\n",
       "    .dataframe thead th {\n",
       "        text-align: right;\n",
       "    }\n",
       "</style>\n",
       "<table border=\"1\" class=\"dataframe\">\n",
       "  <thead>\n",
       "    <tr style=\"text-align: right;\">\n",
       "      <th></th>\n",
       "      <th>country</th>\n",
       "      <th>confederation</th>\n",
       "      <th>population_share</th>\n",
       "      <th>tv_audience_share</th>\n",
       "      <th>gdp_weighted_share</th>\n",
       "    </tr>\n",
       "  </thead>\n",
       "  <tbody>\n",
       "    <tr>\n",
       "      <th>0</th>\n",
       "      <td>United States</td>\n",
       "      <td>CONCACAF</td>\n",
       "      <td>4.5</td>\n",
       "      <td>4.3</td>\n",
       "      <td>11.3</td>\n",
       "    </tr>\n",
       "    <tr>\n",
       "      <th>1</th>\n",
       "      <td>Japan</td>\n",
       "      <td>AFC</td>\n",
       "      <td>1.9</td>\n",
       "      <td>4.9</td>\n",
       "      <td>9.1</td>\n",
       "    </tr>\n",
       "    <tr>\n",
       "      <th>2</th>\n",
       "      <td>China</td>\n",
       "      <td>AFC</td>\n",
       "      <td>19.5</td>\n",
       "      <td>14.8</td>\n",
       "      <td>7.3</td>\n",
       "    </tr>\n",
       "    <tr>\n",
       "      <th>3</th>\n",
       "      <td>Germany</td>\n",
       "      <td>UEFA</td>\n",
       "      <td>1.2</td>\n",
       "      <td>2.9</td>\n",
       "      <td>6.3</td>\n",
       "    </tr>\n",
       "    <tr>\n",
       "      <th>4</th>\n",
       "      <td>Brazil</td>\n",
       "      <td>CONMEBOL</td>\n",
       "      <td>2.8</td>\n",
       "      <td>7.1</td>\n",
       "      <td>5.4</td>\n",
       "    </tr>\n",
       "  </tbody>\n",
       "</table>\n",
       "</div>"
      ],
      "text/plain": [
       "         country confederation  population_share  tv_audience_share  \\\n",
       "0  United States      CONCACAF               4.5                4.3   \n",
       "1          Japan           AFC               1.9                4.9   \n",
       "2          China           AFC              19.5               14.8   \n",
       "3        Germany          UEFA               1.2                2.9   \n",
       "4         Brazil      CONMEBOL               2.8                7.1   \n",
       "\n",
       "   gdp_weighted_share  \n",
       "0                11.3  \n",
       "1                 9.1  \n",
       "2                 7.3  \n",
       "3                 6.3  \n",
       "4                 5.4  "
      ]
     },
     "execution_count": 51,
     "metadata": {},
     "output_type": "execute_result"
    }
   ],
   "source": [
    "df_train=pd.read_csv('fifa_countries_audience.csv')\n",
    "target= 'population_share'\n",
    "df_train.head()"
   ]
  },
  {
   "cell_type": "code",
   "execution_count": 52,
   "id": "0828ea79",
   "metadata": {},
   "outputs": [
    {
     "name": "stdout",
     "output_type": "stream",
     "text": [
      "       population_share  tv_audience_share  gdp_weighted_share\n",
      "count        191.000000         191.000000          191.000000\n",
      "mean           0.522513           0.523037            0.520419\n",
      "std            1.960335           1.449535            1.457594\n",
      "min            0.000000           0.000000            0.000000\n",
      "25%            0.000000           0.000000            0.000000\n",
      "50%            0.100000           0.100000            0.000000\n",
      "75%            0.350000           0.300000            0.300000\n",
      "max           19.500000          14.800000           11.300000\n"
     ]
    }
   ],
   "source": [
    "print(df_train.describe().iloc[:, :10])"
   ]
  },
  {
   "cell_type": "code",
   "execution_count": 53,
   "id": "feb30dfb",
   "metadata": {},
   "outputs": [
    {
     "name": "stdout",
     "output_type": "stream",
     "text": [
      "count    191.000000\n",
      "mean       0.522513\n",
      "std        1.960335\n",
      "min        0.000000\n",
      "25%        0.000000\n",
      "50%        0.100000\n",
      "75%        0.350000\n",
      "max       19.500000\n",
      "Name: population_share, dtype: float64\n",
      "/n\n"
     ]
    },
    {
     "name": "stderr",
     "output_type": "stream",
     "text": [
      "C:\\ProgramData\\Anaconda3\\lib\\site-packages\\seaborn\\distributions.py:2619: FutureWarning: `distplot` is a deprecated function and will be removed in a future version. Please adapt your code to use either `displot` (a figure-level function with similar flexibility) or `histplot` (an axes-level function for histograms).\n",
      "  warnings.warn(msg, FutureWarning)\n"
     ]
    },
    {
     "data": {
      "image/png": "[encoded data removed]",
      "text/plain": [
       "<Figure size 640x480 with 1 Axes>"
      ]
     },
     "metadata": {},
     "output_type": "display_data"
    }
   ],
   "source": [
    "print(df_train['population_share'].describe())\n",
    "print('/n')\n",
    "ax = sns.distplot(df_train['population_share'])"
   ]
  },
  {
   "cell_type": "code",
   "execution_count": 54,
   "id": "d06e8e55",
   "metadata": {},
   "outputs": [],
   "source": [
    "# Select the dependent and independent variables\n",
    "X = df['tv_audience_share']\n",
    "y = df['gdp_weighted_share']"
   ]
  },
  {
   "cell_type": "code",
   "execution_count": 55,
   "id": "6d4cb428",
   "metadata": {},
   "outputs": [],
   "source": [
    "# Add a constant term to the independent variable\n",
    "X = sm.add_constant(X)"
   ]
  },
  {
   "cell_type": "code",
   "execution_count": 56,
   "id": "ae94bb9f",
   "metadata": {},
   "outputs": [],
   "source": [
    "# Fit the model\n",
    "model = sm.OLS(y, X).fit()"
   ]
  },
  {
   "cell_type": "markdown",
   "id": "5d3cc741",
   "metadata": {},
   "source": [
    "The model will be fit using the ordinary least squares (OLS) method"
   ]
  },
  {
   "cell_type": "code",
   "execution_count": 57,
   "id": "27735441",
   "metadata": {},
   "outputs": [],
   "source": [
    "# Make predictions\n",
    "predictions = model.predict(X)"
   ]
  },
  {
   "cell_type": "code",
   "execution_count": 58,
   "id": "0a808cc2",
   "metadata": {},
   "outputs": [
    {
     "name": "stdout",
     "output_type": "stream",
     "text": [
      "                            OLS Regression Results                            \n",
      "==============================================================================\n",
      "Dep. Variable:     gdp_weighted_share   R-squared:                       0.594\n",
      "Model:                            OLS   Adj. R-squared:                  0.592\n",
      "Method:                 Least Squares   F-statistic:                     276.6\n",
      "Date:                Wed, 21 Dec 2022   Prob (F-statistic):           7.42e-39\n",
      "Time:                        18:56:24   Log-Likelihood:                -184.91\n",
      "No. Observations:                 191   AIC:                             373.8\n",
      "Df Residuals:                     189   BIC:                             380.3\n",
      "Df Model:                           1                                         \n",
      "Covariance Type:            nonrobust                                         \n",
      "=====================================================================================\n",
      "                        coef    std err          t      P>|t|      [0.025      0.975]\n",
      "-------------------------------------------------------------------------------------\n",
      "const             -1.041e-16      0.046  -2.25e-15      1.000      -0.091       0.091\n",
      "tv_audience_share     0.7708      0.046     16.632      0.000       0.679       0.862\n",
      "==============================================================================\n",
      "Omnibus:                      211.096   Durbin-Watson:                   1.422\n",
      "Prob(Omnibus):                  0.000   Jarque-Bera (JB):             9959.218\n",
      "Skew:                           4.163   Prob(JB):                         0.00\n",
      "Kurtosis:                      37.382   Cond. No.                         1.00\n",
      "==============================================================================\n",
      "\n",
      "Notes:\n",
      "[1] Standard Errors assume that the covariance matrix of the errors is correctly specified.\n"
     ]
    }
   ],
   "source": [
    "# Print the model summary\n",
    "print(model.summary())"
   ]
  },
  {
   "cell_type": "code",
   "execution_count": 85,
   "id": "26d22aca",
   "metadata": {},
   "outputs": [],
   "source": [
    "# Make predictions for a new data point\n",
    "tv_audience_share = 0.5\n",
    "prediction = model.predict([1, tv_audience_share])"
   ]
  },
  {
   "cell_type": "markdown",
   "id": "323ed65b",
   "metadata": {},
   "source": [
    "This will make a prediction for the value of gdp_weighted_share based on a tv_audience_share of 0.5."
   ]
  }
 ],
 "metadata": {
  "kernelspec": {
   "display_name": "Python 3 (ipykernel)",
   "language": "python",
   "name": "python3"
  },
  "language_info": {
   "codemirror_mode": {
    "name": "ipython",
    "version": 3
   },
   "file_extension": ".py",
   "mimetype": "text/x-python",
   "name": "python",
   "nbconvert_exporter": "python",
   "pygments_lexer": "ipython3",
   "version": "3.9.13"
  },
  "vscode": {
   "interpreter": {
    "hash": "ca466237924130a6b5da4332c6b4b8218c2c4b087577d3860c6cc086ec16815c"
   }
  }
 },
 "nbformat": 4,
 "nbformat_minor": 5
}
